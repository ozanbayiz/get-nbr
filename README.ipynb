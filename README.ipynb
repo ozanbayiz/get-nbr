{
 "cells": [
  {
   "cell_type": "markdown",
   "metadata": {},
   "source": [
    "# Get NBR\n",
    "---\n",
    "\n",
    "The USGS [Landsat Normalized Burn Ratio (NBR)](https://www.usgs.gov/landsat-missions/landsat-normalized-burn-ratio) \"is used to identify burned areas and provide a measure of burn severity. It is calculated as a ratio between the NIR and SWIR values in traditional fashion.\" \n",
    "\n",
    "For Landsat **8-9**, this means fetching bands *5* and *7* and performing the following computation:\n",
    "\n",
    "$$ NBR = \\frac{\\text{Band }5 - \\text{Band }7}{\\text{Band }5 + \\text{Band }7}$$\n",
    "\n",
    "\n",
    "<br>\n",
    "\n",
    "The USGS [Landsat Normalized Burn Ratio 2 (NBR2)](https://www.usgs.gov/landsat-missions/landsat-normalized-burn-ratio-2) \"modifies the Normalized Burn Ratio (NBR) to highlight water sensitivity in vegetation and may be useful in post-fire recovery studies.\"\n",
    "\n",
    "For Landsat **8-9**, this means fetching bands *6* and *7* and performing the following computation:\n",
    "\n",
    "$$ NBR2 = \\frac{\\text{Band }6 - \\text{Band }7}{\\text{Band }6 + \\text{Band }7}$$\n",
    "\n",
    "<br>\n",
    "\n",
    "The following is ademonstration of how to use functions defined in `raster_utils.py` and `download_utils.py` alongside an [existing Machine-to-Machine (M2M) Python API](https://github.com/Fergui/m2m-api/tree/main) to locally install USGS Landsat raster files and process them into NBR. If you prefer the sequel, the only difference is to fetch band *6* instead of band *5*."
   ]
  },
  {
   "cell_type": "markdown",
   "metadata": {},
   "source": [
    "### Creating the M2M object\n",
    "Read in a valid username and token from a local `.env` file, and use these credentials to create the `M2M` object. This `M2M` object will be needed to find and install datasets."
   ]
  },
  {
   "cell_type": "code",
   "execution_count": null,
   "metadata": {},
   "outputs": [],
   "source": [
    "from api import M2M\n",
    "from dotenv import load_dotenv\n",
    "import os\n",
    "\n",
    "load_dotenv('.env')\n",
    "username = os.environ['username']\n",
    "token = os.environ['token']\n",
    "m2m = M2M(username=username, token=token)"
   ]
  },
  {
   "cell_type": "markdown",
   "metadata": {},
   "source": [
    "## download_utils.py"
   ]
  },
  {
   "cell_type": "code",
   "execution_count": null,
   "metadata": {},
   "outputs": [],
   "source": [
    "from download_utils import get_geojson_boundary, get_band_datasets, download_band_datasets, organize_band_files"
   ]
  },
  {
   "cell_type": "markdown",
   "metadata": {},
   "source": [
    "### Finding Relevant Raster Files\n",
    "Specify filters and search for the band datasets. To get NBR, we want bands 5 and 7."
   ]
  },
  {
   "cell_type": "code",
   "execution_count": null,
   "metadata": {},
   "outputs": [],
   "source": [
    "bands = ['B5', 'B7'] # change to ['B6', 'B7] if desiring NBR2\n",
    "\n",
    "aoi_geojson_path = './geojson/sierra_nevada_boundary.geojson'\n",
    "start_date = '20-08-01'\n",
    "end_date = '20-08-31'\n",
    "max_cloud_cover = 10\n",
    "max_results = 10000\n",
    "\n",
    "aoi_geojson_boundary = get_geojson_boundary(aoi_geojson_path)\n",
    "\n",
    "filters = {\n",
    "    \"startDate\": start_date,\n",
    "    \"endDate\": end_date,\n",
    "    'maxCC': max_cloud_cover,\n",
    "    \"maxResults\": max_results,\n",
    "    'geoJsonType': aoi_geojson_boundary['type'],\n",
    "    'geoJsonCoords': aoi_geojson_boundary['coordinates']\n",
    "}\n",
    "\n",
    "band_files = get_band_datasets(m2m, bands, filters)"
   ]
  },
  {
   "cell_type": "markdown",
   "metadata": {},
   "source": [
    "### Downloading Raster Files\n",
    "`download_band_datasets` downloads the band files specified by parameter `band_files` to a local directory which is called `./ingest` by defult. It returns `band_filenames` and `band_metadata`\n",
    "\n",
    "---\n",
    "\n",
    "`band_filenames` is a dictionary of the form:\n",
    "```python\n",
    "    {\n",
    "        <Band 5>: [<Band 5 Raster 1>.TIF, <Band 5 Raster 2>.TIF>, ... ],\n",
    "        <Band 7>: [<Band 7 Raster 1>.TIF, <Band 7 Raster 2>.TIF>, ... ],\n",
    "        ...\n",
    "    }\n",
    "```\n",
    "\n",
    "`band_metadata` is a dictionary of the form:\n",
    "```python\n",
    "    {\n",
    "        <Band 5>: [<Band 5 Raster 1 Metadata>, <Band 5 Raster 2 Metadata>, ... ],\n",
    "        <Band 7>: [<Band 7 Raster 1 Metadata>, <Band 7 Raster 2 Metadata>, ... ],\n",
    "        ...\n",
    "    }\n",
    "```"
   ]
  },
  {
   "cell_type": "code",
   "execution_count": null,
   "metadata": {},
   "outputs": [],
   "source": [
    "band_filenames, band_metadata = download_band_datasets(m2m, band_files)"
   ]
  },
  {
   "cell_type": "markdown",
   "metadata": {},
   "source": [
    "###  Organizing Files After Downloading\n",
    "The M2M API downloads raw band files to a directory `./ingest`, and adds the `.tar` suffix to every band file. \n",
    "`organize_band_files` will create new directories to hold raster data, sort files into different directories based their band, and delete the `./ingest` directory\n",
    "\n",
    "---\n",
    "\n",
    "Before `organize_band_files`:\n",
    "```python\n",
    "    ingest                           \n",
    "    │   <Band 5 Raster 1>.TIF.tar      \n",
    "    │   <Band 5 Raster 1>.TIF.tar.size \n",
    "    │   <Band 7 Raster 1>.TIF.tar      \n",
    "    │   <Band 7 Raster 1>.TIF.tar.size \n",
    "    │   <Band 5 Raster 2>.TIF.tar      \n",
    "    │   <Band 5 Raster 2>.TIF.tar.size \n",
    "    │   <Band 7 Raster 2>.TIF.tar      \n",
    "    │   <Band 7 Raster 2>.TIF.tar.size \n",
    "    |   ...                          \n",
    "```\n",
    "\n",
    "<br>\n",
    "\n",
    "After `organize_band_files`:\n",
    "```python\n",
    "    <Data Directory>\n",
    "    │\n",
    "    └───Band 5\n",
    "    │   │   <Band 5 Raster 1>.tif\n",
    "    │   │   <Band 5 Raster 2>.tif\n",
    "    │   │   ...\n",
    "    │   \n",
    "    └───Band 7\n",
    "    │   │   <Band 7 Raster 1>.TIF\n",
    "    │   │   <Band 7 Raster 2>.TIF\n",
    "    │   │   ...\n",
    "    │\n",
    "    │   ...\n",
    "```"
   ]
  },
  {
   "cell_type": "code",
   "execution_count": null,
   "metadata": {},
   "outputs": [],
   "source": [
    "acq_directory = './ingest' # M2M API creates a folder called `ingest`\n",
    "data_directory = './raster_data'\n",
    "organize_band_files(acq_directory, data_directory, band_filenames)"
   ]
  },
  {
   "cell_type": "markdown",
   "metadata": {},
   "source": [
    "## raster_utils.py"
   ]
  },
  {
   "cell_type": "code",
   "execution_count": null,
   "metadata": {},
   "outputs": [],
   "source": [
    "from raster_utils import create_nbr_rasters, reproject_directory, tile_directory, clip_raster, plot_raster"
   ]
  },
  {
   "cell_type": "markdown",
   "metadata": {},
   "source": [
    "### Processing Bands to NBR\n",
    "`create_nbr_rasters` will process the raw band 5 and 7 data into NBR. It will create a new directory `<Data Directory>/NBR`, and write the NBR data as new raster files in that directory.\n",
    "\n",
    "---\n",
    "\n",
    "Before `create_nbr_rasters`:\n",
    "\n",
    "```python\n",
    "    <Data Directory>\n",
    "    │\n",
    "    └───Band 5\n",
    "    │   │   <Band 5 Raster 1>.tif\n",
    "    │   │   <Band 5 Raster 2>.tif\n",
    "    │   │   ...\n",
    "    │   \n",
    "    └───Band 7\n",
    "    │   │   <Band 7 Raster 1>.TIF\n",
    "    │   │   <Band 7 Raster 2>.TIF\n",
    "    │   │   ...\n",
    "    │\n",
    "    │   ...\n",
    "```\n",
    "\n",
    "<br>\n",
    "\n",
    "After `create_nbr_rasters`:\n",
    "\n",
    "```python\n",
    "    <Data Directory>\n",
    "    │\n",
    "    └───Band 5\n",
    "    │   │   ...\n",
    "    │   \n",
    "    └───Band 7\n",
    "    │   │   ...\n",
    "    │ \n",
    "    └───NBR\n",
    "    │   │   <NBR Raster File 1>.TIF\n",
    "    │   │   <NBR Raster File 2>.TIF\n",
    "    │   │   ...\n",
    "```"
   ]
  },
  {
   "cell_type": "code",
   "execution_count": null,
   "metadata": {},
   "outputs": [],
   "source": [
    "nbr_directory = create_nbr_rasters(data_directory, band_filenames)"
   ]
  },
  {
   "cell_type": "markdown",
   "metadata": {},
   "source": [
    "###   Reprojecting Rasters\n",
    "`reproject_directory` reprojects all raster files in a directory to a desired CRS and saves the reprojected rasters to a new directory.\n",
    "\n",
    "---\n",
    "\n",
    "Before `reproject_directory`:\n",
    "\n",
    "```python\n",
    "    <Parent Directory>\n",
    "    │\n",
    "    └───<Directory>\n",
    "    │   │   <Raster 1>.TIF\n",
    "    │   │   <Raster 2>.TIF\n",
    "    │   │   ...\n",
    "    │   ...\n",
    "```\n",
    "\n",
    "<br>\n",
    "\n",
    "After `reproject_directory`:\n",
    "\n",
    "```python\n",
    "    <Parent Directory>\n",
    "    │\n",
    "    └───<Directory>\n",
    "    │   │   ...\n",
    "    │ \n",
    "    └───Reprojected_<Directory>\n",
    "    │   │   <Raster 1>.TIF\n",
    "    │   │   <Raster 2>.TIF\n",
    "    │   │   ...\n",
    "    │   ...\n",
    "```"
   ]
  },
  {
   "cell_type": "code",
   "execution_count": null,
   "metadata": {},
   "outputs": [],
   "source": [
    "reprojection_directory = reproject_directory(nbr_directory, crs='EPSG:4326')"
   ]
  },
  {
   "cell_type": "markdown",
   "metadata": {},
   "source": [
    "### Tiling Rasters\n",
    "`tile_directory` combines all raster files in a given directory into a single tiled raster."
   ]
  },
  {
   "cell_type": "code",
   "execution_count": null,
   "metadata": {},
   "outputs": [],
   "source": [
    "tiled_raster_filepath = tile_directory(reprojection_directory)\n",
    "plot_raster(tiled_raster_filepath)"
   ]
  },
  {
   "cell_type": "markdown",
   "metadata": {},
   "source": [
    "### Clipping Rasters\n",
    "`clip_raster` clips a given raster file using the geojson in the provided path."
   ]
  },
  {
   "cell_type": "code",
   "execution_count": null,
   "metadata": {},
   "outputs": [],
   "source": [
    "clipped_raster_filepath = clip_raster(tiled_raster_filepath, aoi_geojson_path=aoi_geojson_path)\n",
    "plot_raster(clipped_raster_filepath)"
   ]
  }
 ],
 "metadata": {
  "kernelspec": {
   "display_name": "wired-utility",
   "language": "python",
   "name": "python3"
  },
  "language_info": {
   "codemirror_mode": {
    "name": "ipython",
    "version": 3
   },
   "file_extension": ".py",
   "mimetype": "text/x-python",
   "name": "python",
   "nbconvert_exporter": "python",
   "pygments_lexer": "ipython3",
   "version": "3.12.5"
  }
 },
 "nbformat": 4,
 "nbformat_minor": 2
}
